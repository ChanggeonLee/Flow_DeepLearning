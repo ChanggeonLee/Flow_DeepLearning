{
 "cells": [
  {
   "cell_type": "code",
   "execution_count": 1,
   "metadata": {
    "scrolled": false
   },
   "outputs": [
    {
     "name": "stderr",
     "output_type": "stream",
     "text": [
      "/Users/ichang-geon/.pyenv/versions/2.7.14/envs/flow/lib/python2.7/site-packages/h5py/__init__.py:36: RuntimeWarning: numpy.dtype size changed, may indicate binary incompatibility. Expected 96, got 88\n",
      "  from ._conv import register_converters as _register_converters\n",
      "/Users/ichang-geon/.pyenv/versions/2.7.14/envs/flow/lib/python2.7/site-packages/h5py/__init__.py:45: RuntimeWarning: numpy.dtype size changed, may indicate binary incompatibility. Expected 96, got 88\n",
      "  from . import h5a, h5d, h5ds, h5f, h5fd, h5g, h5r, h5s, h5t, h5p, h5z\n",
      "/Users/ichang-geon/.pyenv/versions/2.7.14/envs/flow/lib/python2.7/site-packages/h5py/_hl/group.py:22: RuntimeWarning: numpy.dtype size changed, may indicate binary incompatibility. Expected 96, got 88\n",
      "  from .. import h5g, h5i, h5o, h5r, h5t, h5l, h5p\n"
     ]
    }
   ],
   "source": [
    "import tensorflow as tf\n",
    "import os\n",
    "import numpy as np\n",
    "from glob import glob as glb\n",
    "from tqdm import *\n",
    "import h5py\n",
    "from tensorflow.contrib import rnn\n",
    "\n",
    "min_queue_examples = 1000"
   ]
  },
  {
   "cell_type": "code",
   "execution_count": 2,
   "metadata": {},
   "outputs": [],
   "source": [
    "def load_flow(filename, shape):\n",
    "  stream_flow = h5py.File(filename, 'r')\n",
    "  flow_state_vel = np.array(stream_flow['Velocity_0'][:])\n",
    "  flow_state_vel = flow_state_vel.reshape([shape[0], shape[1]+128, 3])[0:shape[0],0:shape[1],0:2]\n",
    "  stream_flow.close()\n",
    "  return flow_state_vel\n",
    "\n",
    "def load_boundary(filename, shape):\n",
    "  stream_boundary = h5py.File(filename, 'r')\n",
    "  boundary_cond = np.array(stream_boundary['Gamma'][:])\n",
    "  boundary_cond = boundary_cond.reshape([shape[0], shape[1]+128, 1])[0:shape[0],0:shape[1],:]\n",
    "  stream_boundary.close()\n",
    "  return boundary_cond\n",
    "\n",
    "def read_data(filename_queue, shape):\n",
    "  reader = tf.TFRecordReader()\n",
    "  key, serialized_example = reader.read(filename_queue)\n",
    "  features = tf.parse_single_example(\n",
    "    serialized_example,\n",
    "    features={\n",
    "      'boundary':tf.FixedLenFeature([],tf.string),\n",
    "      'sflow':tf.FixedLenFeature([],tf.string),\n",
    "      'vmax':tf.FixedLenFeature([],tf.int64),\n",
    "    }) \n",
    "  boundary = tf.decode_raw(features['boundary'], tf.uint8)\n",
    "  sflow = tf.decode_raw(features['sflow'], tf.float32)\n",
    "  vmax = tf.cast(features['vmax'], tf.int32)\n",
    "\n",
    "  boundary = tf.reshape(boundary, [shape[0], shape[1], 1])\n",
    "  sflow = tf.reshape(sflow, [shape[0], shape[1], 2])\n",
    "  boundary = tf.to_float(boundary)\n",
    "  sflow = tf.to_float(sflow)\n",
    "\n",
    "  return boundary, sflow, vmax\n",
    "\n",
    "def _generate_image_label_batch(boundary, sflow, vmax, batch_size, shuffle=True):\n",
    "  num_preprocess_threads = 1\n",
    "  #Create a queue that shuffles the examples, and then\n",
    "  #read 'batch_size' images + labels from the example queue.\n",
    "  boundarys, sflows, vmax = tf.train.shuffle_batch(\n",
    "    [boundary, sflow, vmax],\n",
    "    batch_size=batch_size,\n",
    "    num_threads=num_preprocess_threads,\n",
    "    capacity=min_queue_examples + 3 * batch_size,\n",
    "    min_after_dequeue=min_queue_examples)\n",
    "  return boundarys, sflows, vmax\n",
    "\n",
    "def flow_inputs(batch_size):\n",
    "  shape = (128,256)\n",
    "\n",
    "  tfrecord_filename = glb('./data/*.tfrecords') \n",
    "  \n",
    "  filename_queue = tf.train.string_input_producer(tfrecord_filename) \n",
    "\n",
    "  boundary, sflow,vmax = read_data(filename_queue, shape)\n",
    "\n",
    "  boundarys, sflows, vmax = _generate_image_label_batch(boundary, sflow,vmax, batch_size)\n",
    "\n",
    "  return boundarys, sflows, vmax"
   ]
  },
  {
   "cell_type": "code",
   "execution_count": 3,
   "metadata": {
    "scrolled": true
   },
   "outputs": [
    {
     "name": "stdout",
     "output_type": "stream",
     "text": [
      "Tensor(\"ToFloat_2:0\", shape=(8,), dtype=float32)\n"
     ]
    }
   ],
   "source": [
    "n_batch = 8\n",
    "learning_rate = 0.0001\n",
    "keep_prob = 0.7\n",
    "n_hidden = 128\n",
    "\n",
    "global_step = tf.Variable(0, trainable=False, name='global_step')\n",
    "\n",
    "X = tf.placeholder(tf.float32 , [None,128,256,1], name=\"X\")\n",
    "\n",
    "boundary, sflow, vmax = flow_inputs(n_batch)\n",
    "X = boundary\n",
    "\n",
    "v = tf.placeholder(tf.float32 ,vmax.shape, name=\"v\")\n",
    "v = tf.to_float(vmax)\n",
    "\n",
    "print(v)\n",
    "\n",
    "#Conv1\n",
    "W1 = tf.Variable(tf.random_normal([16, 16, 1, 128], stddev=0.01))\n",
    "L1 = tf.nn.conv2d(X, W1, strides=[1, 8, 16, 1], padding='SAME')\n",
    "L1 = tf.nn.relu(L1)\n",
    "L1 = tf.nn.dropout(L1, keep_prob)"
   ]
  },
  {
   "cell_type": "code",
   "execution_count": 4,
   "metadata": {},
   "outputs": [],
   "source": [
    "#Cov2\n",
    "W2 = tf.Variable(tf.random_normal([4,4,128,512], stddev=0.01))\n",
    "L2 = tf.nn.conv2d(L1, W2, strides=[1, 4, 4, 1], padding='SAME')\n",
    "L2 = tf.nn.relu(L2)\n",
    "L2 = tf.nn.dropout(L2, keep_prob)"
   ]
  },
  {
   "cell_type": "code",
   "execution_count": 5,
   "metadata": {},
   "outputs": [],
   "source": [
    "L2_flat = tf.reshape(L2,[-1,4*4*512])"
   ]
  },
  {
   "cell_type": "code",
   "execution_count": 6,
   "metadata": {},
   "outputs": [],
   "source": [
    "W3 = tf.get_variable(\"W\", shape=[512 * 4 * 4, 1024],\n",
    "                     initializer=tf.contrib.layers.xavier_initializer())"
   ]
  },
  {
   "cell_type": "code",
   "execution_count": 7,
   "metadata": {},
   "outputs": [
    {
     "name": "stdout",
     "output_type": "stream",
     "text": [
      "Tensor(\"dropout_2/mul:0\", shape=(8, 1024), dtype=float32)\n"
     ]
    }
   ],
   "source": [
    "b3 = tf.Variable(tf.random_normal([1024]))\n",
    "L3 = tf.nn.relu(tf.matmul(L2_flat, W3) + b3)\n",
    "L3 = tf.nn.dropout(L3, keep_prob=keep_prob)\n",
    "print(L3)\n",
    "# vmax를 state로 주고 input으로 L3를 RNN에 넣은다."
   ]
  },
  {
   "cell_type": "code",
   "execution_count": 8,
   "metadata": {},
   "outputs": [],
   "source": [
    "# RNN layer\n",
    "\n",
    "WR = tf.Variable(tf.random_normal([n_hidden , 1024], stddev=0.01))\n",
    "BR = tf.Variable(tf.random_normal([1024]))\n",
    "\n",
    "L3 = tf.reshape(L3 , [n_batch,1024,1])\n",
    "state = v\n",
    "cell = tf.nn.rnn_cell.BasicRNNCell(num_units=n_hidden,reuse=tf.AUTO_REUSE)\n",
    "model, states = tf.nn.dynamic_rnn(cell=cell, inputs=L3, dtype=tf.float32, time_major=False)\n",
    "model = tf.layers.dense(model,units=1,activation=None)\n",
    "model = tf.nn.relu(model)\n",
    "L3 = tf.reshape(model,[n_batch,1024])"
   ]
  },
  {
   "cell_type": "code",
   "execution_count": 9,
   "metadata": {},
   "outputs": [],
   "source": [
    "# L3 = tf.divide(L3,y)\n",
    "S1, S2 = tf.split(L3, [512, 512], 1)"
   ]
  },
  {
   "cell_type": "code",
   "execution_count": 10,
   "metadata": {},
   "outputs": [],
   "source": [
    "S1= tf.reshape(S1,[n_batch,1,1,512])\n",
    "S2= tf.reshape(S2,[n_batch,1,1,512])"
   ]
  },
  {
   "cell_type": "code",
   "execution_count": 11,
   "metadata": {},
   "outputs": [],
   "source": [
    "# deconv1\n",
    "W4_1 = tf.Variable(tf.random_normal([8,8,512,512], stddev=0.01))\n",
    "L4_1 = tf.nn.conv2d_transpose(S1,W4_1,output_shape=[n_batch,8,8,512],strides=[1,8, 8, 1], padding='SAME')\n",
    "L4_1 = tf.nn.relu(L4_1)\n",
    "L4_1 = tf.nn.dropout(L4_1, keep_prob)\n",
    "\n",
    "W4_2 = tf.Variable(tf.random_normal([8,8,512,512], stddev=0.01))\n",
    "L4_2 = tf.nn.conv2d_transpose(S2,W4_2,output_shape=[n_batch,8,8,512],strides=[1,8, 8, 1], padding='SAME')\n",
    "L4_2 = tf.nn.relu(L4_2)\n",
    "L4_2 = tf.nn.dropout(L4_2, keep_prob)"
   ]
  },
  {
   "cell_type": "code",
   "execution_count": 12,
   "metadata": {},
   "outputs": [],
   "source": [
    "## deconv2\n",
    "W5_1 = tf.Variable(tf.random_normal([4,8,256,512], stddev=0.01))\n",
    "L5_1 = tf.nn.conv2d_transpose(L4_1,W5_1,output_shape=[n_batch,32,64,256],strides=[1, 4, 8, 1], padding='SAME')\n",
    "L5_1 = tf.nn.relu(L5_1)\n",
    "L5_1 = tf.nn.dropout(L5_1, keep_prob)\n",
    "\n",
    "W5_2 = tf.Variable(tf.random_normal([4,8,256,512], stddev=0.01))\n",
    "L5_2 = tf.nn.conv2d_transpose(L4_2,W5_2,output_shape=[n_batch,32,64,256],strides=[1,4, 8, 1], padding='SAME')\n",
    "L5_2 = tf.nn.relu(L5_2)\n",
    "L5_2 = tf.nn.dropout(L5_2, keep_prob)"
   ]
  },
  {
   "cell_type": "code",
   "execution_count": 13,
   "metadata": {},
   "outputs": [],
   "source": [
    "# deconv3\n",
    "W6_1 = tf.Variable(tf.random_normal([2,2,32,256], stddev=0.01))\n",
    "L6_1 = tf.nn.conv2d_transpose(L5_1,W6_1,output_shape=[n_batch,64,128,32],strides=[1,2, 2, 1], padding='SAME')\n",
    "L6_1 = tf.nn.relu(L6_1)\n",
    "L6_1 = tf.nn.dropout(L6_1, keep_prob)\n",
    "\n",
    "W6_2 = tf.Variable(tf.random_normal([2,2,32,256], stddev=0.01))\n",
    "L6_2 = tf.nn.conv2d_transpose(L5_2,W6_2,output_shape=[n_batch,64,128,32],strides=[1,2, 2, 1], padding='SAME')\n",
    "L6_2 = tf.nn.relu(L6_2)\n",
    "L6_2 = tf.nn.dropout(L6_2, keep_prob)"
   ]
  },
  {
   "cell_type": "code",
   "execution_count": 14,
   "metadata": {},
   "outputs": [],
   "source": [
    "# deconv4\n",
    "W7_1 = tf.Variable(tf.random_normal([2,2,1,32], stddev=0.01))\n",
    "L7_1 = tf.nn.conv2d_transpose(L6_1,W7_1,output_shape=[n_batch,128,256,1],strides=[1,2,2, 1], padding='SAME')\n",
    "L7_1 = tf.nn.dropout(L7_1, keep_prob)\n",
    "\n",
    "W7_2 = tf.Variable(tf.random_normal([2,2,1,32], stddev=0.01))\n",
    "L7_2 = tf.nn.conv2d_transpose(L6_2,W7_2,output_shape=[n_batch,128,256,1],strides=[1,2, 2, 1], padding='SAME')\n",
    "L7_2 = tf.nn.dropout(L7_2, keep_prob)"
   ]
  },
  {
   "cell_type": "code",
   "execution_count": 15,
   "metadata": {},
   "outputs": [],
   "source": [
    "sflow_p = tf.stack([L7_1 , L7_2] , axis=3)\n",
    "sflow_p = tf.reshape(sflow_p , [n_batch,128,256,2])\n",
    "# loss = tf.reduce_mean(tf.square(sflow_p - sflow))\n",
    "loss = tf.nn.l2_loss(sflow_p - sflow)"
   ]
  },
  {
   "cell_type": "code",
   "execution_count": 16,
   "metadata": {
    "scrolled": false
   },
   "outputs": [],
   "source": [
    "#loss \n",
    "total_loss = tf.train.AdamOptimizer(learning_rate).minimize(loss)"
   ]
  },
  {
   "cell_type": "code",
   "execution_count": 17,
   "metadata": {
    "scrolled": false
   },
   "outputs": [
    {
     "name": "stdout",
     "output_type": "stream",
     "text": [
      "INFO:tensorflow:Restoring parameters from ./model_save/model.ckpt\n"
     ]
    }
   ],
   "source": [
    "sess = tf.Session()\n",
    "saver = tf.train.Saver(tf.global_variables())\n",
    "ckpt = tf.train.get_checkpoint_state('./model_save')\n",
    "if ckpt and tf.train.checkpoint_exists(ckpt.model_checkpoint_path):\n",
    "    saver.restore(sess, ckpt.model_checkpoint_path)\n",
    "else:\n",
    "    sess.run(tf.global_variables_initializer())"
   ]
  },
  {
   "cell_type": "code",
   "execution_count": 18,
   "metadata": {},
   "outputs": [
    {
     "data": {
      "text/plain": [
       "[<Thread(QueueRunnerThread-input_producer-input_producer/input_producer_EnqueueMany, started daemon 123145430749184)>,\n",
       " <Thread(QueueRunnerThread-shuffle_batch/random_shuffle_queue-shuffle_batch/random_shuffle_queue_enqueue, started daemon 123145434955776)>]"
      ]
     },
     "execution_count": 18,
     "metadata": {},
     "output_type": "execute_result"
    }
   ],
   "source": [
    "tf.train.start_queue_runners(sess=sess)"
   ]
  },
  {
   "cell_type": "code",
   "execution_count": 19,
   "metadata": {},
   "outputs": [],
   "source": [
    "# v = sess.run([v],feed_dict={})\n",
    "# print(v)"
   ]
  },
  {
   "cell_type": "code",
   "execution_count": 20,
   "metadata": {},
   "outputs": [
    {
     "name": "stdout",
     "output_type": "stream",
     "text": [
      "('Epoch:', '0001', 'Avg. cost =', '778.394592')\n",
      "('Epoch:', '0002', 'Avg. cost =', '108.123589')\n",
      "('Epoch:', '0003', 'Avg. cost =', '492.939606')\n",
      "('Epoch:', '0004', 'Avg. cost =', '687.116333')\n",
      "('Epoch:', '0005', 'Avg. cost =', '673.868835')\n",
      "('Epoch:', '0006', 'Avg. cost =', '485.666595')\n",
      "('Epoch:', '0007', 'Avg. cost =', '549.854431')\n",
      "('Epoch:', '0008', 'Avg. cost =', '311.093811')\n",
      "('Epoch:', '0009', 'Avg. cost =', '633.615906')\n",
      "('Epoch:', '0010', 'Avg. cost =', '844.885254')\n",
      "('Epoch:', '0011', 'Avg. cost =', '894.796326')\n",
      "('Epoch:', '0012', 'Avg. cost =', '570.340637')\n",
      "('Epoch:', '0013', 'Avg. cost =', '272.763550')\n",
      "('Epoch:', '0014', 'Avg. cost =', '640.370850')\n",
      "('Epoch:', '0015', 'Avg. cost =', '286.319153')\n",
      "('Epoch:', '0016', 'Avg. cost =', '325.321716')\n",
      "('Epoch:', '0017', 'Avg. cost =', '588.558655')\n",
      "('Epoch:', '0018', 'Avg. cost =', '649.516663')\n",
      "('Epoch:', '0019', 'Avg. cost =', '337.602448')\n",
      "('Epoch:', '0020', 'Avg. cost =', '721.604187')\n",
      "('Epoch:', '0021', 'Avg. cost =', '629.616760')\n",
      "('Epoch:', '0022', 'Avg. cost =', '568.173218')\n",
      "('Epoch:', '0023', 'Avg. cost =', '483.231262')\n",
      "('Epoch:', '0024', 'Avg. cost =', '572.145996')\n",
      "('Epoch:', '0025', 'Avg. cost =', '869.328857')\n",
      "('Epoch:', '0026', 'Avg. cost =', '331.792755')\n",
      "('Epoch:', '0027', 'Avg. cost =', '659.758789')\n",
      "('Epoch:', '0028', 'Avg. cost =', '613.916687')\n",
      "('Epoch:', '0029', 'Avg. cost =', '589.803467')\n",
      "('Epoch:', '0030', 'Avg. cost =', '681.913879')\n",
      "('Epoch:', '0031', 'Avg. cost =', '373.893768')\n",
      "('Epoch:', '0032', 'Avg. cost =', '486.713074')\n",
      "('Epoch:', '0033', 'Avg. cost =', '88.789825')\n",
      "('Epoch:', '0034', 'Avg. cost =', '125.015877')\n",
      "('Epoch:', '0035', 'Avg. cost =', '425.634277')\n",
      "('Epoch:', '0036', 'Avg. cost =', '556.095825')\n",
      "('Epoch:', '0037', 'Avg. cost =', '409.452637')\n",
      "('Epoch:', '0038', 'Avg. cost =', '211.977524')\n",
      "('Epoch:', '0039', 'Avg. cost =', '691.140503')\n",
      "('Epoch:', '0040', 'Avg. cost =', '613.610718')\n",
      "('Epoch:', '0041', 'Avg. cost =', '300.944244')\n",
      "('Epoch:', '0042', 'Avg. cost =', '609.385254')\n",
      "('Epoch:', '0043', 'Avg. cost =', '544.646973')\n",
      "('Epoch:', '0044', 'Avg. cost =', '709.790833')\n",
      "('Epoch:', '0045', 'Avg. cost =', '545.716553')\n",
      "('Epoch:', '0046', 'Avg. cost =', '698.262939')\n",
      "('Epoch:', '0047', 'Avg. cost =', '308.586487')\n",
      "('Epoch:', '0048', 'Avg. cost =', '407.126190')\n",
      "('Epoch:', '0049', 'Avg. cost =', '477.654175')\n",
      "('Epoch:', '0050', 'Avg. cost =', '504.788055')\n",
      "('Epoch:', '0051', 'Avg. cost =', '424.122772')\n",
      "('Epoch:', '0052', 'Avg. cost =', '479.088013')\n",
      "('Epoch:', '0053', 'Avg. cost =', '441.865906')\n",
      "('Epoch:', '0054', 'Avg. cost =', '522.865662')\n",
      "('Epoch:', '0055', 'Avg. cost =', '543.877441')\n",
      "('Epoch:', '0056', 'Avg. cost =', '915.646606')\n",
      "('Epoch:', '0057', 'Avg. cost =', '271.392639')\n",
      "('Epoch:', '0058', 'Avg. cost =', '133.392563')\n",
      "('Epoch:', '0059', 'Avg. cost =', '562.441467')\n",
      "('Epoch:', '0060', 'Avg. cost =', '417.785034')\n",
      "('Epoch:', '0061', 'Avg. cost =', '235.093140')\n",
      "('Epoch:', '0062', 'Avg. cost =', '417.933868')\n",
      "('Epoch:', '0063', 'Avg. cost =', '774.273071')\n",
      "('Epoch:', '0064', 'Avg. cost =', '536.333130')\n",
      "('Epoch:', '0065', 'Avg. cost =', '480.537750')\n",
      "('Epoch:', '0066', 'Avg. cost =', '706.597046')\n",
      "('Epoch:', '0067', 'Avg. cost =', '490.576752')\n",
      "('Epoch:', '0068', 'Avg. cost =', '558.142456')\n",
      "('Epoch:', '0069', 'Avg. cost =', '451.541229')\n",
      "('Epoch:', '0070', 'Avg. cost =', '660.385254')\n",
      "('Epoch:', '0071', 'Avg. cost =', '550.645691')\n",
      "('Epoch:', '0072', 'Avg. cost =', '546.017700')\n",
      "('Epoch:', '0073', 'Avg. cost =', '571.773804')\n",
      "('Epoch:', '0074', 'Avg. cost =', '799.992981')\n",
      "('Epoch:', '0075', 'Avg. cost =', '434.519775')\n",
      "('Epoch:', '0076', 'Avg. cost =', '475.694183')\n",
      "('Epoch:', '0077', 'Avg. cost =', '666.755859')\n",
      "('Epoch:', '0078', 'Avg. cost =', '276.237701')\n",
      "('Epoch:', '0079', 'Avg. cost =', '406.647156')\n",
      "('Epoch:', '0080', 'Avg. cost =', '735.134766')\n",
      "('Epoch:', '0081', 'Avg. cost =', '320.523621')\n",
      "('Epoch:', '0082', 'Avg. cost =', '495.361206')\n",
      "('Epoch:', '0083', 'Avg. cost =', '535.706970')\n",
      "('Epoch:', '0084', 'Avg. cost =', '782.301147')\n",
      "('Epoch:', '0085', 'Avg. cost =', '243.248276')\n",
      "('Epoch:', '0086', 'Avg. cost =', '178.504578')\n",
      "('Epoch:', '0087', 'Avg. cost =', '507.643494')\n",
      "('Epoch:', '0088', 'Avg. cost =', '522.937622')\n",
      "('Epoch:', '0089', 'Avg. cost =', '417.600647')\n",
      "('Epoch:', '0090', 'Avg. cost =', '168.826218')\n",
      "('Epoch:', '0091', 'Avg. cost =', '461.242188')\n",
      "('Epoch:', '0092', 'Avg. cost =', '396.376221')\n",
      "('Epoch:', '0093', 'Avg. cost =', '814.533386')\n",
      "('Epoch:', '0094', 'Avg. cost =', '774.767761')\n",
      "('Epoch:', '0095', 'Avg. cost =', '266.665283')\n",
      "('Epoch:', '0096', 'Avg. cost =', '864.646606')\n",
      "('Epoch:', '0097', 'Avg. cost =', '515.401001')\n",
      "('Epoch:', '0098', 'Avg. cost =', '366.538544')\n",
      "('Epoch:', '0099', 'Avg. cost =', '409.003693')\n",
      "('Epoch:', '0100', 'Avg. cost =', '836.073486')\n",
      "('Epoch:', '0101', 'Avg. cost =', '449.344299')\n",
      "('Epoch:', '0102', 'Avg. cost =', '475.047241')\n",
      "('Epoch:', '0103', 'Avg. cost =', '316.406677')\n",
      "('Epoch:', '0104', 'Avg. cost =', '771.360535')\n",
      "('Epoch:', '0105', 'Avg. cost =', '305.927704')\n",
      "('Epoch:', '0106', 'Avg. cost =', '609.079102')\n",
      "('Epoch:', '0107', 'Avg. cost =', '802.897583')\n",
      "('Epoch:', '0108', 'Avg. cost =', '478.133911')\n",
      "('Epoch:', '0109', 'Avg. cost =', '440.491974')\n",
      "('Epoch:', '0110', 'Avg. cost =', '252.566193')\n",
      "('Epoch:', '0111', 'Avg. cost =', '490.760834')\n",
      "('Epoch:', '0112', 'Avg. cost =', '509.370453')\n",
      "('Epoch:', '0113', 'Avg. cost =', '398.820190')\n",
      "('Epoch:', '0114', 'Avg. cost =', '504.765808')\n",
      "('Epoch:', '0115', 'Avg. cost =', '494.889984')\n",
      "('Epoch:', '0116', 'Avg. cost =', '406.709839')\n",
      "('Epoch:', '0117', 'Avg. cost =', '415.507324')\n",
      "('Epoch:', '0118', 'Avg. cost =', '367.408051')\n",
      "('Epoch:', '0119', 'Avg. cost =', '504.784607')\n",
      "('Epoch:', '0120', 'Avg. cost =', '573.568726')\n",
      "('Epoch:', '0121', 'Avg. cost =', '209.683472')\n",
      "('Epoch:', '0122', 'Avg. cost =', '420.338135')\n",
      "('Epoch:', '0123', 'Avg. cost =', '222.921875')\n",
      "('Epoch:', '0124', 'Avg. cost =', '527.669556')\n",
      "('Epoch:', '0125', 'Avg. cost =', '769.112915')\n",
      "('Epoch:', '0126', 'Avg. cost =', '583.172302')\n",
      "('Epoch:', '0127', 'Avg. cost =', '257.276764')\n",
      "('Epoch:', '0128', 'Avg. cost =', '353.507568')\n",
      "('Epoch:', '0129', 'Avg. cost =', '541.485474')\n",
      "('Epoch:', '0130', 'Avg. cost =', '323.072205')\n",
      "('Epoch:', '0131', 'Avg. cost =', '697.274658')\n",
      "('Epoch:', '0132', 'Avg. cost =', '825.657104')\n",
      "('Epoch:', '0133', 'Avg. cost =', '622.145081')\n",
      "('Epoch:', '0134', 'Avg. cost =', '510.598694')\n",
      "('Epoch:', '0135', 'Avg. cost =', '688.611145')\n",
      "('Epoch:', '0136', 'Avg. cost =', '258.462402')\n",
      "('Epoch:', '0137', 'Avg. cost =', '582.416382')\n",
      "('Epoch:', '0138', 'Avg. cost =', '224.187134')\n",
      "('Epoch:', '0139', 'Avg. cost =', '528.180542')\n",
      "('Epoch:', '0140', 'Avg. cost =', '483.110840')\n",
      "('Epoch:', '0141', 'Avg. cost =', '440.078827')\n",
      "('Epoch:', '0142', 'Avg. cost =', '548.624939')\n",
      "('Epoch:', '0143', 'Avg. cost =', '661.404907')\n",
      "('Epoch:', '0144', 'Avg. cost =', '464.900909')\n",
      "('Epoch:', '0145', 'Avg. cost =', '569.705200')\n",
      "('Epoch:', '0146', 'Avg. cost =', '722.474976')\n",
      "('Epoch:', '0147', 'Avg. cost =', '768.923584')\n",
      "('Epoch:', '0148', 'Avg. cost =', '381.198914')\n",
      "('Epoch:', '0149', 'Avg. cost =', '524.617676')\n",
      "('Epoch:', '0150', 'Avg. cost =', '695.924255')\n",
      "('Epoch:', '0151', 'Avg. cost =', '541.891785')\n",
      "('Epoch:', '0152', 'Avg. cost =', '573.041016')\n",
      "('Epoch:', '0153', 'Avg. cost =', '873.393066')\n",
      "('Epoch:', '0154', 'Avg. cost =', '746.891418')\n",
      "('Epoch:', '0155', 'Avg. cost =', '467.815491')\n",
      "('Epoch:', '0156', 'Avg. cost =', '298.266144')\n",
      "('Epoch:', '0157', 'Avg. cost =', '385.387878')\n",
      "('Epoch:', '0158', 'Avg. cost =', '494.267761')\n",
      "('Epoch:', '0159', 'Avg. cost =', '477.239532')\n",
      "('Epoch:', '0160', 'Avg. cost =', '399.103638')\n",
      "('Epoch:', '0161', 'Avg. cost =', '499.298920')\n",
      "('Epoch:', '0162', 'Avg. cost =', '672.684387')\n",
      "('Epoch:', '0163', 'Avg. cost =', '247.965881')\n",
      "('Epoch:', '0164', 'Avg. cost =', '570.429138')\n",
      "('Epoch:', '0165', 'Avg. cost =', '523.330566')\n",
      "('Epoch:', '0166', 'Avg. cost =', '702.404663')\n",
      "('Epoch:', '0167', 'Avg. cost =', '356.544647')\n",
      "('Epoch:', '0168', 'Avg. cost =', '414.671326')\n",
      "('Epoch:', '0169', 'Avg. cost =', '364.760681')\n",
      "('Epoch:', '0170', 'Avg. cost =', '555.003540')\n",
      "('Epoch:', '0171', 'Avg. cost =', '619.902954')\n"
     ]
    },
    {
     "name": "stdout",
     "output_type": "stream",
     "text": [
      "('Epoch:', '0172', 'Avg. cost =', '636.437988')\n",
      "('Epoch:', '0173', 'Avg. cost =', '618.519836')\n",
      "('Epoch:', '0174', 'Avg. cost =', '425.362244')\n",
      "('Epoch:', '0175', 'Avg. cost =', '268.373291')\n",
      "('Epoch:', '0176', 'Avg. cost =', '444.388733')\n",
      "('Epoch:', '0177', 'Avg. cost =', '574.966736')\n",
      "('Epoch:', '0178', 'Avg. cost =', '386.819244')\n",
      "('Epoch:', '0179', 'Avg. cost =', '606.252014')\n",
      "('Epoch:', '0180', 'Avg. cost =', '314.531403')\n",
      "('Epoch:', '0181', 'Avg. cost =', '455.930145')\n",
      "('Epoch:', '0182', 'Avg. cost =', '327.647217')\n",
      "('Epoch:', '0183', 'Avg. cost =', '241.394791')\n",
      "('Epoch:', '0184', 'Avg. cost =', '879.887634')\n",
      "('Epoch:', '0185', 'Avg. cost =', '537.372375')\n",
      "('Epoch:', '0186', 'Avg. cost =', '471.774475')\n",
      "('Epoch:', '0187', 'Avg. cost =', '377.681183')\n",
      "('Epoch:', '0188', 'Avg. cost =', '493.537354')\n",
      "('Epoch:', '0189', 'Avg. cost =', '604.663574')\n",
      "('Epoch:', '0190', 'Avg. cost =', '375.292664')\n",
      "('Epoch:', '0191', 'Avg. cost =', '764.852173')\n",
      "('Epoch:', '0192', 'Avg. cost =', '779.262573')\n",
      "('Epoch:', '0193', 'Avg. cost =', '912.959839')\n",
      "('Epoch:', '0194', 'Avg. cost =', '249.288666')\n",
      "('Epoch:', '0195', 'Avg. cost =', '772.355469')\n",
      "('Epoch:', '0196', 'Avg. cost =', '456.666748')\n",
      "('Epoch:', '0197', 'Avg. cost =', '462.621368')\n",
      "('Epoch:', '0198', 'Avg. cost =', '732.334717')\n",
      "('Epoch:', '0199', 'Avg. cost =', '456.986359')\n",
      "('Epoch:', '0200', 'Avg. cost =', '516.416016')\n",
      "최적화 완료\n"
     ]
    },
    {
     "data": {
      "text/plain": [
       "'./model_save/model.ckpt'"
      ]
     },
     "execution_count": 20,
     "metadata": {},
     "output_type": "execute_result"
    }
   ],
   "source": [
    "steps = 3000\n",
    "\n",
    "for epoch in range(steps):    \n",
    "  total_cost = 0\n",
    "  _, cost_val = sess.run([total_loss, loss],feed_dict={})\n",
    "  total_cost += cost_val\n",
    "\n",
    "  print('Epoch:', '%04d' % (epoch + 1),\n",
    "        'Avg. cost =', '{:f}'.format(total_cost))\n",
    "print(\"최적화 완료\") \n",
    "saver.save(sess, \"./model_save/model.ckpt\")"
   ]
  },
  {
   "cell_type": "code",
   "execution_count": null,
   "metadata": {},
   "outputs": [],
   "source": []
  }
 ],
 "metadata": {
  "kernelspec": {
   "display_name": "Python 2",
   "language": "python",
   "name": "python2"
  },
  "language_info": {
   "codemirror_mode": {
    "name": "ipython",
    "version": 2
   },
   "file_extension": ".py",
   "mimetype": "text/x-python",
   "name": "python",
   "nbconvert_exporter": "python",
   "pygments_lexer": "ipython2",
   "version": "2.7.14"
  }
 },
 "nbformat": 4,
 "nbformat_minor": 2
}
