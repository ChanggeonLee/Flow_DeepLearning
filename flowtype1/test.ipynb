{
 "cells": [
  {
   "cell_type": "code",
   "execution_count": 1,
   "metadata": {
    "scrolled": true
   },
   "outputs": [
    {
     "name": "stderr",
     "output_type": "stream",
     "text": [
      "/Users/ichang-geon/.pyenv/versions/2.7.14/envs/flow/lib/python2.7/site-packages/h5py/__init__.py:36: RuntimeWarning: numpy.dtype size changed, may indicate binary incompatibility. Expected 96, got 88\n",
      "  from ._conv import register_converters as _register_converters\n",
      "/Users/ichang-geon/.pyenv/versions/2.7.14/envs/flow/lib/python2.7/site-packages/h5py/__init__.py:45: RuntimeWarning: numpy.dtype size changed, may indicate binary incompatibility. Expected 96, got 88\n",
      "  from . import h5a, h5d, h5ds, h5f, h5fd, h5g, h5r, h5s, h5t, h5p, h5z\n",
      "/Users/ichang-geon/.pyenv/versions/2.7.14/envs/flow/lib/python2.7/site-packages/h5py/_hl/group.py:22: RuntimeWarning: numpy.dtype size changed, may indicate binary incompatibility. Expected 96, got 88\n",
      "  from .. import h5g, h5i, h5o, h5r, h5t, h5l, h5p\n"
     ]
    }
   ],
   "source": [
    "import tensorflow as tf\n",
    "import os\n",
    "import numpy as np\n",
    "from glob import glob as glb\n",
    "from tqdm import *\n",
    "import h5py\n",
    "import matplotlib.pyplot as plt"
   ]
  },
  {
   "cell_type": "code",
   "execution_count": 2,
   "metadata": {},
   "outputs": [],
   "source": [
    "def load_flow(filename, shape):\n",
    "  stream_flow = h5py.File(filename, 'r')\n",
    "  flow_state_vel = np.array(stream_flow['Velocity_0'][:])\n",
    "  flow_state_vel = flow_state_vel.reshape([shape[0], shape[1]+128, 3])[0:shape[0],0:shape[1],0:2]\n",
    "  stream_flow.close()\n",
    "  return flow_state_vel\n",
    "\n",
    "def load_boundary(filename, shape):\n",
    "  stream_boundary = h5py.File(filename, 'r')\n",
    "  boundary_cond = np.array(stream_boundary['Gamma'][:])\n",
    "  boundary_cond = boundary_cond.reshape([shape[0], shape[1]+128, 1])[0:shape[0],0:shape[1],:]\n",
    "  stream_boundary.close()\n",
    "  return boundary_cond"
   ]
  },
  {
   "cell_type": "code",
   "execution_count": 3,
   "metadata": {},
   "outputs": [],
   "source": [
    "tf.reset_default_graph()"
   ]
  },
  {
   "cell_type": "code",
   "execution_count": 4,
   "metadata": {},
   "outputs": [],
   "source": [
    "n_batch = 1\n",
    "learning_rate = 0.0001\n",
    "keep_prob = 1\n",
    "\n",
    "X = tf.placeholder(tf.float32 , [None,128,256,1], name=\"X\")\n",
    "\n",
    "#Conv1\n",
    "W1 = tf.Variable(tf.random_normal([16, 16, 1, 128], stddev=0.01))\n",
    "L1 = tf.nn.conv2d(X, W1, strides=[1, 8, 16, 1], padding='SAME')\n",
    "L1 = tf.nn.relu(L1)\n",
    "L1 = tf.nn.dropout(L1, keep_prob)\n",
    "\n",
    "#Cov2\n",
    "W2 = tf.Variable(tf.random_normal([4,4,128,512], stddev=0.01))\n",
    "L2 = tf.nn.conv2d(L1, W2, strides=[1, 4, 4, 1], padding='SAME')\n",
    "L2 = tf.nn.relu(L2)\n",
    "L2 = tf.nn.dropout(L2, keep_prob)\n",
    "\n",
    "L2_flat = tf.reshape(L2,[-1,4*4*512])\n",
    "\n",
    "W3 = tf.get_variable(\"W\", shape=[512 * 4 * 4, 1024],\n",
    "                     initializer=tf.contrib.layers.xavier_initializer())\n",
    "b3 = tf.Variable(tf.random_normal([1024]))\n",
    "L3 = tf.nn.relu(tf.matmul(L2_flat, W3) + b3)\n",
    "L3 = tf.nn.dropout(L3, keep_prob=keep_prob)\n",
    "\n",
    "# L3 = tf.divide(L3,y)\n",
    "S1, S2 = tf.split(L3, [512, 512], 1)\n",
    "\n",
    "S1= tf.reshape(S1,[n_batch,1,1,512])\n",
    "S2= tf.reshape(S2,[n_batch,1,1,512])\n",
    "\n",
    "# deconv1\n",
    "W4_1 = tf.Variable(tf.random_normal([8,8,512,512], stddev=0.01))\n",
    "L4_1 = tf.nn.conv2d_transpose(S1,W4_1,output_shape=[n_batch,8,8,512],strides=[1,8, 8, 1], padding='SAME')\n",
    "L4_1 = tf.nn.relu(L4_1)\n",
    "L4_1 = tf.nn.dropout(L4_1, keep_prob)\n",
    "\n",
    "W4_2 = tf.Variable(tf.random_normal([8,8,512,512], stddev=0.01))\n",
    "L4_2 = tf.nn.conv2d_transpose(S2,W4_2,output_shape=[n_batch,8,8,512],strides=[1,8, 8, 1], padding='SAME')\n",
    "L4_2 = tf.nn.relu(L4_2)\n",
    "L4_2 = tf.nn.dropout(L4_2, keep_prob)\n",
    "\n",
    "## deconv2\n",
    "W5_1 = tf.Variable(tf.random_normal([4,8,256,512], stddev=0.01))\n",
    "L5_1 = tf.nn.conv2d_transpose(L4_1,W5_1,output_shape=[n_batch,32,64,256],strides=[1, 4, 8, 1], padding='SAME')\n",
    "L5_1 = tf.nn.relu(L5_1)\n",
    "L5_1 = tf.nn.dropout(L5_1, keep_prob)\n",
    "\n",
    "W5_2 = tf.Variable(tf.random_normal([4,8,256,512], stddev=0.01))\n",
    "L5_2 = tf.nn.conv2d_transpose(L4_2,W5_2,output_shape=[n_batch,32,64,256],strides=[1,4, 8, 1], padding='SAME')\n",
    "L5_2 = tf.nn.relu(L5_2)\n",
    "L5_2 = tf.nn.dropout(L5_2, keep_prob)\n",
    "\n",
    "# deconv3\n",
    "W6_1 = tf.Variable(tf.random_normal([2,2,32,256], stddev=0.01))\n",
    "L6_1 = tf.nn.conv2d_transpose(L5_1,W6_1,output_shape=[n_batch,64,128,32],strides=[1,2, 2, 1], padding='SAME')\n",
    "L6_1 = tf.nn.relu(L6_1)\n",
    "L6_1 = tf.nn.dropout(L6_1, keep_prob)\n",
    "\n",
    "W6_2 = tf.Variable(tf.random_normal([2,2,32,256], stddev=0.01))\n",
    "L6_2 = tf.nn.conv2d_transpose(L5_2,W6_2,output_shape=[n_batch,64,128,32],strides=[1,2, 2, 1], padding='SAME')\n",
    "L6_2 = tf.nn.relu(L6_2)\n",
    "L6_2 = tf.nn.dropout(L6_2, keep_prob)\n",
    "\n",
    "# deconv4\n",
    "W7_1 = tf.Variable(tf.random_normal([2,2,1,32], stddev=0.01))\n",
    "L7_1 = tf.nn.conv2d_transpose(L6_1,W7_1,output_shape=[n_batch,128,256,1],strides=[1,2,2, 1], padding='SAME')\n",
    "L7_1 = tf.nn.dropout(L7_1, keep_prob)\n",
    "\n",
    "W7_2 = tf.Variable(tf.random_normal([2,2,1,32], stddev=0.01))\n",
    "L7_2 = tf.nn.conv2d_transpose(L6_2,W7_2,output_shape=[n_batch,128,256,1],strides=[1,2, 2, 1], padding='SAME')\n",
    "L7_2 = tf.nn.dropout(L7_2, keep_prob)\n",
    "\n",
    "sflow_p = tf.stack([L7_1 , L7_2] , axis=3)\n",
    "sflow_p = tf.reshape(sflow_p , [n_batch,128,256,2])"
   ]
  },
  {
   "cell_type": "code",
   "execution_count": 5,
   "metadata": {},
   "outputs": [],
   "source": [
    "saver = tf.train.Saver()"
   ]
  },
  {
   "cell_type": "code",
   "execution_count": 6,
   "metadata": {},
   "outputs": [
    {
     "name": "stdout",
     "output_type": "stream",
     "text": [
      "INFO:tensorflow:Restoring parameters from ./model_save/model.ckpt\n"
     ]
    }
   ],
   "source": [
    "sess = tf.Session()\n",
    "# Restore variables from disk.\n",
    "saver.restore(sess, \"./model_save/model.ckpt\")"
   ]
  },
  {
   "cell_type": "code",
   "execution_count": 7,
   "metadata": {
    "scrolled": false
   },
   "outputs": [],
   "source": [
    "#test\n",
    "shape = [128,256]\n",
    "flow_name = './fluid_flow_0002.h5'\n",
    "boundary_np = load_boundary(flow_name, shape).reshape([1, shape[0], shape[1], 1])\n",
    "sflow_true = load_flow(flow_name, shape)"
   ]
  },
  {
   "cell_type": "code",
   "execution_count": 8,
   "metadata": {},
   "outputs": [
    {
     "name": "stdout",
     "output_type": "stream",
     "text": [
      "(128, 256, 2)\n"
     ]
    }
   ],
   "source": [
    "# calc logits \n",
    "sflow_generated = sess.run(sflow_p,feed_dict={X: boundary_np})[0]\n",
    "print(sflow_generated.shape)"
   ]
  },
  {
   "cell_type": "code",
   "execution_count": 9,
   "metadata": {},
   "outputs": [
    {
     "data": {
      "image/png": "[encoded data removed]",
      "text/plain": [
       "<Figure size 432x288 with 2 Axes>"
      ]
     },
     "metadata": {},
     "output_type": "display_data"
    }
   ],
   "source": [
    "\n",
    "# convert to display \n",
    "sflow_plot = np.concatenate([sflow_true, sflow_generated, sflow_true - sflow_generated], axis=1) \n",
    "boundary_concat = np.concatenate(3*[boundary_np], axis=2) \n",
    "sflow_plot = np.sqrt(np.square(sflow_plot[:,:,0]) + np.square(sflow_plot[:,:,1])) - .05 *boundary_concat[0,:,:,0]\n",
    "\n",
    "# display it\n",
    "plt.imshow(sflow_plot)\n",
    "plt.colorbar()\n",
    "plt.show()\n"
   ]
  }
 ],
 "metadata": {
  "kernelspec": {
   "display_name": "Python 2",
   "language": "python",
   "name": "python2"
  },
  "language_info": {
   "codemirror_mode": {
    "name": "ipython",
    "version": 2
   },
   "file_extension": ".py",
   "mimetype": "text/x-python",
   "name": "python",
   "nbconvert_exporter": "python",
   "pygments_lexer": "ipython2",
   "version": "2.7.14"
  }
 },
 "nbformat": 4,
 "nbformat_minor": 2
}
