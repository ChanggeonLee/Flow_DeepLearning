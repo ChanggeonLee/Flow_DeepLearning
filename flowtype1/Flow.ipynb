{
 "cells": [
  {
   "cell_type": "code",
   "execution_count": 1,
   "metadata": {
    "scrolled": false
   },
   "outputs": [
    {
     "name": "stderr",
     "output_type": "stream",
     "text": [
      "/Users/ichang-geon/.pyenv/versions/2.7.14/envs/flow/lib/python2.7/site-packages/h5py/__init__.py:36: RuntimeWarning: numpy.dtype size changed, may indicate binary incompatibility. Expected 96, got 88\n",
      "  from ._conv import register_converters as _register_converters\n",
      "/Users/ichang-geon/.pyenv/versions/2.7.14/envs/flow/lib/python2.7/site-packages/h5py/__init__.py:45: RuntimeWarning: numpy.dtype size changed, may indicate binary incompatibility. Expected 96, got 88\n",
      "  from . import h5a, h5d, h5ds, h5f, h5fd, h5g, h5r, h5s, h5t, h5p, h5z\n",
      "/Users/ichang-geon/.pyenv/versions/2.7.14/envs/flow/lib/python2.7/site-packages/h5py/_hl/group.py:22: RuntimeWarning: numpy.dtype size changed, may indicate binary incompatibility. Expected 96, got 88\n",
      "  from .. import h5g, h5i, h5o, h5r, h5t, h5l, h5p\n"
     ]
    }
   ],
   "source": [
    "import tensorflow as tf\n",
    "import os\n",
    "import numpy as np\n",
    "from glob import glob as glb\n",
    "from tqdm import *\n",
    "import h5py\n",
    "\n",
    "min_queue_examples = 1000"
   ]
  },
  {
   "cell_type": "code",
   "execution_count": 2,
   "metadata": {},
   "outputs": [],
   "source": [
    "def load_flow(filename, shape):\n",
    "  stream_flow = h5py.File(filename, 'r')\n",
    "  flow_state_vel = np.array(stream_flow['Velocity_0'][:])\n",
    "  flow_state_vel = flow_state_vel.reshape([shape[0], shape[1]+128, 3])[0:shape[0],0:shape[1],0:2]\n",
    "  stream_flow.close()\n",
    "  return flow_state_vel\n",
    "\n",
    "def load_boundary(filename, shape):\n",
    "  stream_boundary = h5py.File(filename, 'r')\n",
    "  boundary_cond = np.array(stream_boundary['Gamma'][:])\n",
    "  boundary_cond = boundary_cond.reshape([shape[0], shape[1]+128, 1])[0:shape[0],0:shape[1],:]\n",
    "  stream_boundary.close()\n",
    "  return boundary_cond\n",
    "\n",
    "def read_data(filename_queue, shape):\n",
    "  reader = tf.TFRecordReader()\n",
    "  key, serialized_example = reader.read(filename_queue)\n",
    "  features = tf.parse_single_example(\n",
    "    serialized_example,\n",
    "    features={\n",
    "      'boundary':tf.FixedLenFeature([],tf.string),\n",
    "      'sflow':tf.FixedLenFeature([],tf.string),\n",
    "    }) \n",
    "  boundary = tf.decode_raw(features['boundary'], tf.uint8)\n",
    "  sflow = tf.decode_raw(features['sflow'], tf.float32)\n",
    "\n",
    "  boundary = tf.reshape(boundary, [shape[0], shape[1], 1])\n",
    "  sflow = tf.reshape(sflow, [shape[0], shape[1], 2])\n",
    "  boundary = tf.to_float(boundary)\n",
    "  sflow = tf.to_float(sflow)\n",
    "  return boundary, sflow\n",
    "\n",
    "def _generate_image_label_batch(boundary, sflow, batch_size, shuffle=True):\n",
    "  num_preprocess_threads = 1\n",
    "  boundarys, sflows = tf.train.shuffle_batch(\n",
    "    [boundary, sflow],\n",
    "    batch_size=batch_size,\n",
    "    num_threads=num_preprocess_threads,\n",
    "    capacity=min_queue_examples + 3 * batch_size,\n",
    "    min_after_dequeue=min_queue_examples)\n",
    "  return boundarys, sflows\n",
    "\n",
    "def flow_inputs(batch_size):\n",
    "  shape = (128,256)\n",
    "\n",
    "  tfrecord_filename = glb('./data/*.tfrecords') \n",
    "  \n",
    "  filename_queue = tf.train.string_input_producer(tfrecord_filename) \n",
    "\n",
    "  boundary, sflow = read_data(filename_queue, shape)\n",
    "\n",
    "  boundarys, sflows = _generate_image_label_batch(boundary, sflow, batch_size)\n",
    " \n",
    "  return boundarys, sflows\n",
    "\n"
   ]
  },
  {
   "cell_type": "code",
   "execution_count": 3,
   "metadata": {
    "scrolled": true
   },
   "outputs": [],
   "source": [
    "n_batch = 8\n",
    "learning_rate = 0.0001\n",
    "keep_prob = 0.7\n",
    "\n",
    "global_step = tf.Variable(0, trainable=False, name='global_step')\n",
    "\n",
    "X = tf.placeholder(tf.float32 , [None,128,256,1], name=\"X\")\n",
    "\n",
    "boundary, sflow = flow_inputs(n_batch)\n",
    "X = boundary\n",
    "# sflow = tf.placeholder(tf.float32 ,[n_batch, 128, 256, 2])\n",
    "# keep_prob = tf.placeholder(tf.float32)\n",
    "\n",
    "#Conv1\n",
    "W1 = tf.Variable(tf.random_normal([16, 16, 1, 128], stddev=0.01))\n",
    "L1 = tf.nn.conv2d(X, W1, strides=[1, 8, 16, 1], padding='SAME')\n",
    "L1 = tf.nn.relu(L1)\n",
    "L1 = tf.nn.dropout(L1, keep_prob)"
   ]
  },
  {
   "cell_type": "code",
   "execution_count": 4,
   "metadata": {},
   "outputs": [],
   "source": [
    "#Cov2\n",
    "W2 = tf.Variable(tf.random_normal([4,4,128,512], stddev=0.01))\n",
    "L2 = tf.nn.conv2d(L1, W2, strides=[1, 4, 4, 1], padding='SAME')\n",
    "L2 = tf.nn.relu(L2)\n",
    "L2 = tf.nn.dropout(L2, keep_prob)"
   ]
  },
  {
   "cell_type": "code",
   "execution_count": 5,
   "metadata": {},
   "outputs": [],
   "source": [
    "L2_flat = tf.reshape(L2,[-1,4*4*512])"
   ]
  },
  {
   "cell_type": "code",
   "execution_count": 6,
   "metadata": {},
   "outputs": [],
   "source": [
    "W3 = tf.get_variable(\"W\", shape=[512 * 4 * 4, 1024],\n",
    "                     initializer=tf.contrib.layers.xavier_initializer())\n",
    "b3 = tf.Variable(tf.random_normal([1024]))\n",
    "L3 = tf.nn.relu(tf.matmul(L2_flat, W3) + b3)\n",
    "L3 = tf.nn.dropout(L3, keep_prob=keep_prob)"
   ]
  },
  {
   "cell_type": "code",
   "execution_count": 7,
   "metadata": {},
   "outputs": [],
   "source": [
    "# L3 = tf.divide(L3,y)\n",
    "S1, S2 = tf.split(L3, [512, 512], 1)"
   ]
  },
  {
   "cell_type": "code",
   "execution_count": 8,
   "metadata": {},
   "outputs": [],
   "source": [
    "S1= tf.reshape(S1,[n_batch,1,1,512])\n",
    "S2= tf.reshape(S2,[n_batch,1,1,512])"
   ]
  },
  {
   "cell_type": "code",
   "execution_count": 9,
   "metadata": {},
   "outputs": [],
   "source": [
    "# deconv1\n",
    "W4_1 = tf.Variable(tf.random_normal([8,8,512,512], stddev=0.01))\n",
    "L4_1 = tf.nn.conv2d_transpose(S1,W4_1,output_shape=[n_batch,8,8,512],strides=[1,8, 8, 1], padding='SAME')\n",
    "L4_1 = tf.nn.relu(L4_1)\n",
    "L4_1 = tf.nn.dropout(L4_1, keep_prob)\n",
    "\n",
    "W4_2 = tf.Variable(tf.random_normal([8,8,512,512], stddev=0.01))\n",
    "L4_2 = tf.nn.conv2d_transpose(S2,W4_2,output_shape=[n_batch,8,8,512],strides=[1,8, 8, 1], padding='SAME')\n",
    "L4_2 = tf.nn.relu(L4_2)\n",
    "L4_2 = tf.nn.dropout(L4_2, keep_prob)"
   ]
  },
  {
   "cell_type": "code",
   "execution_count": 10,
   "metadata": {},
   "outputs": [],
   "source": [
    "## deconv2\n",
    "W5_1 = tf.Variable(tf.random_normal([4,8,256,512], stddev=0.01))\n",
    "L5_1 = tf.nn.conv2d_transpose(L4_1,W5_1,output_shape=[n_batch,32,64,256],strides=[1, 4, 8, 1], padding='SAME')\n",
    "L5_1 = tf.nn.relu(L5_1)\n",
    "L5_1 = tf.nn.dropout(L5_1, keep_prob)\n",
    "\n",
    "W5_2 = tf.Variable(tf.random_normal([4,8,256,512], stddev=0.01))\n",
    "L5_2 = tf.nn.conv2d_transpose(L4_2,W5_2,output_shape=[n_batch,32,64,256],strides=[1,4, 8, 1], padding='SAME')\n",
    "L5_2 = tf.nn.relu(L5_2)\n",
    "L5_2 = tf.nn.dropout(L5_2, keep_prob)"
   ]
  },
  {
   "cell_type": "code",
   "execution_count": 11,
   "metadata": {},
   "outputs": [],
   "source": [
    "# deconv3\n",
    "W6_1 = tf.Variable(tf.random_normal([2,2,32,256], stddev=0.01))\n",
    "L6_1 = tf.nn.conv2d_transpose(L5_1,W6_1,output_shape=[n_batch,64,128,32],strides=[1,2, 2, 1], padding='SAME')\n",
    "L6_1 = tf.nn.relu(L6_1)\n",
    "L6_1 = tf.nn.dropout(L6_1, keep_prob)\n",
    "\n",
    "W6_2 = tf.Variable(tf.random_normal([2,2,32,256], stddev=0.01))\n",
    "L6_2 = tf.nn.conv2d_transpose(L5_2,W6_2,output_shape=[n_batch,64,128,32],strides=[1,2, 2, 1], padding='SAME')\n",
    "L6_2 = tf.nn.relu(L6_2)\n",
    "L6_2 = tf.nn.dropout(L6_2, keep_prob)"
   ]
  },
  {
   "cell_type": "code",
   "execution_count": 12,
   "metadata": {},
   "outputs": [],
   "source": [
    "# deconv4\n",
    "W7_1 = tf.Variable(tf.random_normal([2,2,1,32], stddev=0.01))\n",
    "L7_1 = tf.nn.conv2d_transpose(L6_1,W7_1,output_shape=[n_batch,128,256,1],strides=[1,2,2, 1], padding='SAME')\n",
    "L7_1 = tf.nn.dropout(L7_1, keep_prob)\n",
    "\n",
    "W7_2 = tf.Variable(tf.random_normal([2,2,1,32], stddev=0.01))\n",
    "L7_2 = tf.nn.conv2d_transpose(L6_2,W7_2,output_shape=[n_batch,128,256,1],strides=[1,2, 2, 1], padding='SAME')\n",
    "L7_2 = tf.nn.dropout(L7_2, keep_prob)"
   ]
  },
  {
   "cell_type": "code",
   "execution_count": 13,
   "metadata": {},
   "outputs": [],
   "source": [
    "sflow_p = tf.stack([L7_1 , L7_2] , axis=3)\n",
    "sflow_p = tf.reshape(sflow_p , [n_batch,128,256,2])\n",
    "# loss = tf.reduce_mean(tf.square(sflow_p - sflow))\n",
    "loss = tf.nn.l2_loss(sflow_p - sflow)"
   ]
  },
  {
   "cell_type": "code",
   "execution_count": 14,
   "metadata": {
    "scrolled": false
   },
   "outputs": [],
   "source": [
    "#loss \n",
    "total_loss = tf.train.AdamOptimizer(learning_rate).minimize(loss)"
   ]
  },
  {
   "cell_type": "code",
   "execution_count": 15,
   "metadata": {
    "scrolled": false
   },
   "outputs": [
    {
     "name": "stdout",
     "output_type": "stream",
     "text": [
      "INFO:tensorflow:Restoring parameters from ./model_save/model.ckpt\n"
     ]
    }
   ],
   "source": [
    "sess = tf.Session()\n",
    "saver = tf.train.Saver(tf.global_variables())\n",
    "ckpt = tf.train.get_checkpoint_state('./model_save')\n",
    "if ckpt and tf.train.checkpoint_exists(ckpt.model_checkpoint_path):\n",
    "    saver.restore(sess, ckpt.model_checkpoint_path)\n",
    "else:\n",
    "    sess.run(tf.global_variables_initializer())"
   ]
  },
  {
   "cell_type": "code",
   "execution_count": 16,
   "metadata": {},
   "outputs": [
    {
     "data": {
      "text/plain": [
       "[<Thread(QueueRunnerThread-input_producer-input_producer/input_producer_EnqueueMany, started daemon 123145479098368)>,\n",
       " <Thread(QueueRunnerThread-shuffle_batch/random_shuffle_queue-shuffle_batch/random_shuffle_queue_enqueue, started daemon 123145483304960)>]"
      ]
     },
     "execution_count": 16,
     "metadata": {},
     "output_type": "execute_result"
    }
   ],
   "source": [
    "tf.train.start_queue_runners(sess=sess)"
   ]
  },
  {
   "cell_type": "code",
   "execution_count": 17,
   "metadata": {},
   "outputs": [
    {
     "name": "stdout",
     "output_type": "stream",
     "text": [
      "('Epoch:', '0001', 'Avg. cost =', '558.317383')\n",
      "('Epoch:', '0002', 'Avg. cost =', '488.307739')\n",
      "('Epoch:', '0003', 'Avg. cost =', '526.650879')\n",
      "('Epoch:', '0004', 'Avg. cost =', '608.244568')\n",
      "('Epoch:', '0005', 'Avg. cost =', '588.740967')\n",
      "('Epoch:', '0006', 'Avg. cost =', '501.632385')\n",
      "('Epoch:', '0007', 'Avg. cost =', '521.304565')\n",
      "('Epoch:', '0008', 'Avg. cost =', '525.813293')\n",
      "('Epoch:', '0009', 'Avg. cost =', '518.190491')\n",
      "('Epoch:', '0010', 'Avg. cost =', '530.894409')\n",
      "('Epoch:', '0011', 'Avg. cost =', '517.703003')\n",
      "('Epoch:', '0012', 'Avg. cost =', '547.473877')\n",
      "('Epoch:', '0013', 'Avg. cost =', '510.237640')\n",
      "('Epoch:', '0014', 'Avg. cost =', '516.588440')\n",
      "('Epoch:', '0015', 'Avg. cost =', '498.728394')\n",
      "('Epoch:', '0016', 'Avg. cost =', '634.264038')\n",
      "('Epoch:', '0017', 'Avg. cost =', '512.181946')\n",
      "('Epoch:', '0018', 'Avg. cost =', '575.085205')\n",
      "('Epoch:', '0019', 'Avg. cost =', '569.132080')\n",
      "('Epoch:', '0020', 'Avg. cost =', '575.311218')\n",
      "('Epoch:', '0021', 'Avg. cost =', '481.165100')\n",
      "('Epoch:', '0022', 'Avg. cost =', '502.705139')\n",
      "('Epoch:', '0023', 'Avg. cost =', '532.610718')\n",
      "('Epoch:', '0024', 'Avg. cost =', '531.967590')\n",
      "('Epoch:', '0025', 'Avg. cost =', '555.043945')\n",
      "('Epoch:', '0026', 'Avg. cost =', '482.840851')\n",
      "('Epoch:', '0027', 'Avg. cost =', '507.309204')\n",
      "('Epoch:', '0028', 'Avg. cost =', '591.947754')\n",
      "('Epoch:', '0029', 'Avg. cost =', '496.516968')\n",
      "('Epoch:', '0030', 'Avg. cost =', '495.545197')\n",
      "('Epoch:', '0031', 'Avg. cost =', '555.508240')\n",
      "('Epoch:', '0032', 'Avg. cost =', '504.400818')\n",
      "('Epoch:', '0033', 'Avg. cost =', '483.843414')\n",
      "('Epoch:', '0034', 'Avg. cost =', '492.751495')\n",
      "('Epoch:', '0035', 'Avg. cost =', '507.200439')\n",
      "('Epoch:', '0036', 'Avg. cost =', '488.420410')\n",
      "('Epoch:', '0037', 'Avg. cost =', '474.807922')\n",
      "('Epoch:', '0038', 'Avg. cost =', '484.661743')\n",
      "('Epoch:', '0039', 'Avg. cost =', '513.192139')\n",
      "('Epoch:', '0040', 'Avg. cost =', '550.918945')\n",
      "('Epoch:', '0041', 'Avg. cost =', '478.162659')\n",
      "('Epoch:', '0042', 'Avg. cost =', '459.212830')\n",
      "('Epoch:', '0043', 'Avg. cost =', '507.425995')\n",
      "('Epoch:', '0044', 'Avg. cost =', '526.385681')\n",
      "('Epoch:', '0045', 'Avg. cost =', '475.652618')\n",
      "('Epoch:', '0046', 'Avg. cost =', '474.181915')\n",
      "('Epoch:', '0047', 'Avg. cost =', '448.356384')\n",
      "('Epoch:', '0048', 'Avg. cost =', '453.563324')\n",
      "('Epoch:', '0049', 'Avg. cost =', '513.262390')\n",
      "('Epoch:', '0050', 'Avg. cost =', '523.800354')\n",
      "('Epoch:', '0051', 'Avg. cost =', '452.388855')\n",
      "('Epoch:', '0052', 'Avg. cost =', '472.061157')\n",
      "('Epoch:', '0053', 'Avg. cost =', '510.532776')\n",
      "('Epoch:', '0054', 'Avg. cost =', '471.273865')\n",
      "('Epoch:', '0055', 'Avg. cost =', '485.632446')\n",
      "('Epoch:', '0056', 'Avg. cost =', '548.824097')\n",
      "('Epoch:', '0057', 'Avg. cost =', '483.388489')\n",
      "('Epoch:', '0058', 'Avg. cost =', '464.381012')\n",
      "('Epoch:', '0059', 'Avg. cost =', '472.407928')\n",
      "('Epoch:', '0060', 'Avg. cost =', '452.387024')\n",
      "('Epoch:', '0061', 'Avg. cost =', '486.570068')\n",
      "('Epoch:', '0062', 'Avg. cost =', '484.175476')\n",
      "('Epoch:', '0063', 'Avg. cost =', '473.609100')\n",
      "('Epoch:', '0064', 'Avg. cost =', '458.727783')\n",
      "('Epoch:', '0065', 'Avg. cost =', '524.117371')\n",
      "('Epoch:', '0066', 'Avg. cost =', '468.330933')\n",
      "('Epoch:', '0067', 'Avg. cost =', '512.853943')\n",
      "('Epoch:', '0068', 'Avg. cost =', '486.076630')\n",
      "('Epoch:', '0069', 'Avg. cost =', '426.369812')\n",
      "('Epoch:', '0070', 'Avg. cost =', '469.246124')\n",
      "('Epoch:', '0071', 'Avg. cost =', '468.450134')\n",
      "('Epoch:', '0072', 'Avg. cost =', '483.720398')\n",
      "('Epoch:', '0073', 'Avg. cost =', '471.998566')\n",
      "('Epoch:', '0074', 'Avg. cost =', '449.871613')\n",
      "('Epoch:', '0075', 'Avg. cost =', '455.547180')\n",
      "('Epoch:', '0076', 'Avg. cost =', '446.630707')\n",
      "('Epoch:', '0077', 'Avg. cost =', '499.608459')\n",
      "('Epoch:', '0078', 'Avg. cost =', '492.285583')\n",
      "('Epoch:', '0079', 'Avg. cost =', '479.783173')\n",
      "('Epoch:', '0080', 'Avg. cost =', '467.538574')\n",
      "('Epoch:', '0081', 'Avg. cost =', '432.972656')\n",
      "('Epoch:', '0082', 'Avg. cost =', '450.967377')\n",
      "('Epoch:', '0083', 'Avg. cost =', '591.995483')\n",
      "('Epoch:', '0084', 'Avg. cost =', '470.090485')\n",
      "('Epoch:', '0085', 'Avg. cost =', '446.347321')\n",
      "('Epoch:', '0086', 'Avg. cost =', '421.484619')\n",
      "('Epoch:', '0087', 'Avg. cost =', '489.425812')\n",
      "('Epoch:', '0088', 'Avg. cost =', '498.230804')\n",
      "('Epoch:', '0089', 'Avg. cost =', '492.144073')\n",
      "('Epoch:', '0090', 'Avg. cost =', '457.349426')\n",
      "('Epoch:', '0091', 'Avg. cost =', '454.781464')\n",
      "('Epoch:', '0092', 'Avg. cost =', '507.936249')\n",
      "('Epoch:', '0093', 'Avg. cost =', '454.160583')\n",
      "('Epoch:', '0094', 'Avg. cost =', '445.484955')\n",
      "('Epoch:', '0095', 'Avg. cost =', '472.650177')\n",
      "('Epoch:', '0096', 'Avg. cost =', '490.563293')\n",
      "('Epoch:', '0097', 'Avg. cost =', '421.777496')\n",
      "('Epoch:', '0098', 'Avg. cost =', '446.826721')\n",
      "('Epoch:', '0099', 'Avg. cost =', '443.187805')\n",
      "('Epoch:', '0100', 'Avg. cost =', '484.197815')\n",
      "('Epoch:', '0101', 'Avg. cost =', '437.953613')\n",
      "('Epoch:', '0102', 'Avg. cost =', '464.768463')\n",
      "('Epoch:', '0103', 'Avg. cost =', '460.674774')\n",
      "('Epoch:', '0104', 'Avg. cost =', '517.880737')\n",
      "('Epoch:', '0105', 'Avg. cost =', '446.537598')\n",
      "('Epoch:', '0106', 'Avg. cost =', '470.128143')\n",
      "('Epoch:', '0107', 'Avg. cost =', '420.680878')\n",
      "('Epoch:', '0108', 'Avg. cost =', '427.558319')\n",
      "('Epoch:', '0109', 'Avg. cost =', '433.163300')\n",
      "('Epoch:', '0110', 'Avg. cost =', '452.598633')\n",
      "('Epoch:', '0111', 'Avg. cost =', '432.899475')\n",
      "('Epoch:', '0112', 'Avg. cost =', '442.564941')\n",
      "('Epoch:', '0113', 'Avg. cost =', '458.912109')\n",
      "('Epoch:', '0114', 'Avg. cost =', '458.995728')\n",
      "('Epoch:', '0115', 'Avg. cost =', '439.616180')\n",
      "('Epoch:', '0116', 'Avg. cost =', '470.505127')\n",
      "('Epoch:', '0117', 'Avg. cost =', '444.950287')\n",
      "('Epoch:', '0118', 'Avg. cost =', '439.635254')\n",
      "('Epoch:', '0119', 'Avg. cost =', '498.567688')\n",
      "('Epoch:', '0120', 'Avg. cost =', '464.468842')\n",
      "('Epoch:', '0121', 'Avg. cost =', '494.994720')\n",
      "('Epoch:', '0122', 'Avg. cost =', '489.603027')\n",
      "('Epoch:', '0123', 'Avg. cost =', '503.320190')\n",
      "('Epoch:', '0124', 'Avg. cost =', '462.617096')\n",
      "('Epoch:', '0125', 'Avg. cost =', '475.509949')\n",
      "('Epoch:', '0126', 'Avg. cost =', '449.937683')\n",
      "('Epoch:', '0127', 'Avg. cost =', '456.569397')\n",
      "('Epoch:', '0128', 'Avg. cost =', '464.286835')\n",
      "('Epoch:', '0129', 'Avg. cost =', '427.816315')\n",
      "('Epoch:', '0130', 'Avg. cost =', '444.574524')\n",
      "('Epoch:', '0131', 'Avg. cost =', '495.898956')\n",
      "('Epoch:', '0132', 'Avg. cost =', '447.517761')\n",
      "('Epoch:', '0133', 'Avg. cost =', '432.331543')\n",
      "('Epoch:', '0134', 'Avg. cost =', '478.684662')\n",
      "('Epoch:', '0135', 'Avg. cost =', '435.105469')\n",
      "('Epoch:', '0136', 'Avg. cost =', '476.250763')\n",
      "('Epoch:', '0137', 'Avg. cost =', '444.500275')\n",
      "('Epoch:', '0138', 'Avg. cost =', '471.111084')\n",
      "('Epoch:', '0139', 'Avg. cost =', '470.357361')\n",
      "('Epoch:', '0140', 'Avg. cost =', '443.713013')\n",
      "('Epoch:', '0141', 'Avg. cost =', '475.328857')\n",
      "('Epoch:', '0142', 'Avg. cost =', '425.059937')\n",
      "('Epoch:', '0143', 'Avg. cost =', '428.274353')\n",
      "('Epoch:', '0144', 'Avg. cost =', '458.199219')\n",
      "('Epoch:', '0145', 'Avg. cost =', '449.704132')\n",
      "('Epoch:', '0146', 'Avg. cost =', '416.846344')\n",
      "('Epoch:', '0147', 'Avg. cost =', '416.550842')\n",
      "('Epoch:', '0148', 'Avg. cost =', '469.832886')\n",
      "('Epoch:', '0149', 'Avg. cost =', '448.980103')\n",
      "('Epoch:', '0150', 'Avg. cost =', '452.514221')\n",
      "('Epoch:', '0151', 'Avg. cost =', '454.918182')\n",
      "('Epoch:', '0152', 'Avg. cost =', '471.709473')\n",
      "('Epoch:', '0153', 'Avg. cost =', '475.211731')\n",
      "('Epoch:', '0154', 'Avg. cost =', '460.579224')\n",
      "('Epoch:', '0155', 'Avg. cost =', '464.193726')\n",
      "('Epoch:', '0156', 'Avg. cost =', '431.507660')\n",
      "('Epoch:', '0157', 'Avg. cost =', '451.158691')\n",
      "('Epoch:', '0158', 'Avg. cost =', '426.781433')\n",
      "('Epoch:', '0159', 'Avg. cost =', '453.102539')\n",
      "('Epoch:', '0160', 'Avg. cost =', '462.648804')\n",
      "('Epoch:', '0161', 'Avg. cost =', '469.003204')\n",
      "('Epoch:', '0162', 'Avg. cost =', '437.893738')\n",
      "('Epoch:', '0163', 'Avg. cost =', '434.667603')\n",
      "('Epoch:', '0164', 'Avg. cost =', '452.928986')\n",
      "('Epoch:', '0165', 'Avg. cost =', '466.195526')\n",
      "('Epoch:', '0166', 'Avg. cost =', '482.997894')\n",
      "('Epoch:', '0167', 'Avg. cost =', '528.351074')\n",
      "('Epoch:', '0168', 'Avg. cost =', '414.676758')\n",
      "('Epoch:', '0169', 'Avg. cost =', '435.365295')\n",
      "('Epoch:', '0170', 'Avg. cost =', '421.490662')\n",
      "('Epoch:', '0171', 'Avg. cost =', '448.230194')\n"
     ]
    },
    {
     "name": "stdout",
     "output_type": "stream",
     "text": [
      "('Epoch:', '0172', 'Avg. cost =', '474.422577')\n",
      "('Epoch:', '0173', 'Avg. cost =', '416.472961')\n",
      "('Epoch:', '0174', 'Avg. cost =', '441.841797')\n",
      "('Epoch:', '0175', 'Avg. cost =', '426.889862')\n",
      "('Epoch:', '0176', 'Avg. cost =', '443.376312')\n",
      "('Epoch:', '0177', 'Avg. cost =', '488.439972')\n",
      "('Epoch:', '0178', 'Avg. cost =', '468.937531')\n",
      "('Epoch:', '0179', 'Avg. cost =', '455.163452')\n",
      "('Epoch:', '0180', 'Avg. cost =', '437.426422')\n",
      "('Epoch:', '0181', 'Avg. cost =', '419.555756')\n",
      "('Epoch:', '0182', 'Avg. cost =', '438.830322')\n",
      "('Epoch:', '0183', 'Avg. cost =', '448.127869')\n",
      "('Epoch:', '0184', 'Avg. cost =', '463.155121')\n",
      "('Epoch:', '0185', 'Avg. cost =', '427.075806')\n",
      "('Epoch:', '0186', 'Avg. cost =', '391.239990')\n",
      "('Epoch:', '0187', 'Avg. cost =', '449.031464')\n",
      "('Epoch:', '0188', 'Avg. cost =', '420.329132')\n",
      "('Epoch:', '0189', 'Avg. cost =', '410.043793')\n",
      "('Epoch:', '0190', 'Avg. cost =', '438.009644')\n",
      "('Epoch:', '0191', 'Avg. cost =', '446.936859')\n",
      "('Epoch:', '0192', 'Avg. cost =', '465.764221')\n",
      "('Epoch:', '0193', 'Avg. cost =', '508.501465')\n",
      "('Epoch:', '0194', 'Avg. cost =', '436.541077')\n",
      "('Epoch:', '0195', 'Avg. cost =', '465.094788')\n",
      "('Epoch:', '0196', 'Avg. cost =', '432.902252')\n",
      "('Epoch:', '0197', 'Avg. cost =', '441.703461')\n",
      "('Epoch:', '0198', 'Avg. cost =', '430.174316')\n",
      "('Epoch:', '0199', 'Avg. cost =', '490.619690')\n",
      "('Epoch:', '0200', 'Avg. cost =', '483.570679')\n",
      "최적화 완료\n"
     ]
    },
    {
     "data": {
      "text/plain": [
       "'./model_save/model.ckpt'"
      ]
     },
     "execution_count": 17,
     "metadata": {},
     "output_type": "execute_result"
    }
   ],
   "source": [
    "steps = 200\n",
    "\n",
    "for epoch in range(steps):    \n",
    "  total_cost = 0\n",
    "  _, cost_val = sess.run([total_loss, loss],feed_dict={})\n",
    "  total_cost += cost_val\n",
    "\n",
    "  print('Epoch:', '%04d' % (epoch + 1),\n",
    "        'Avg. cost =', '{:f}'.format(total_cost))\n",
    "print(\"최적화 완료\") \n",
    "saver.save(sess, \"./model_save/model.ckpt\")"
   ]
  },
  {
   "cell_type": "code",
   "execution_count": null,
   "metadata": {},
   "outputs": [],
   "source": []
  }
 ],
 "metadata": {
  "kernelspec": {
   "display_name": "Python 2",
   "language": "python",
   "name": "python2"
  },
  "language_info": {
   "codemirror_mode": {
    "name": "ipython",
    "version": 2
   },
   "file_extension": ".py",
   "mimetype": "text/x-python",
   "name": "python",
   "nbconvert_exporter": "python",
   "pygments_lexer": "ipython2",
   "version": "2.7.14"
  }
 },
 "nbformat": 4,
 "nbformat_minor": 2
}
